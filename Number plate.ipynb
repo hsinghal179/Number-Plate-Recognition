{
 "cells": [
  {
   "cell_type": "code",
   "execution_count": 1,
   "metadata": {},
   "outputs": [],
   "source": [
    "import cv2\n",
    "import pytesseract\n",
    "import numpy as np\n",
    "\n",
    "pytesseract.pytesseract.tesseract_cmd=r'C:\\Program Files (x86)\\Tesseract-OCR\\tesseract.exe'\n",
    "cascade=cv2.CascadeClassifier(\"haarcascade_russian_plate_number.xml\")\n",
    "states={\"UP\":\"Uttar Pradesh\",\"DL\":\"Delhi\",\"HR\":\"Haryana\"}\n",
    "\n",
    "def extract_num(img_name):\n",
    "    global read\n",
    "    img =cv2.imread(img_name)\n",
    "    gray=cv2.cvtColor(img, cv2.COLOR_BGR2GRAY)\n",
    "    nplate=cascade.detectMultiScale(gray,1.1,4)\n",
    "    for(x,y,w,h) in nplate:\n",
    "        a,b =(int(0.02*img.shape[0]),int(0.025*img.shape[1]))\n",
    "        plate=img[y+a:y+h-a,x+b:x+w-b,:]\n",
    "        kernel=np.ones((1,1),np.uint8)\n",
    "        plate=cv2.dilate(plate,kernel,iterations=1)\n",
    "        plate=cv2.erode(plate,kernel,iterations=1)\n",
    "        plate_gray=cv2.cvtColor(plate,cv2.COLOR_BGR2GRAY)\n",
    "        (thresh,plate)=cv2.threshold(plate_gray,127,255,cv2.THRESH_BINARY)\n",
    "        read=pytesseract.image_to_string(plate)\n",
    "        read= ''.join(e for e in read if e.isalnum())\n",
    "        stat=read[0:2]\n",
    "        try:\n",
    "            print('car Belongs to',states[stat])\n",
    "        except:\n",
    "            print('state not present!!')\n",
    "        print(read)\n",
    "        cv2.rectangle(img,(x,y),(x+w,y+h),(51,51,255),2)\n",
    "        cv2.rectangle(img,(x,y-40),(x+w,y),(51,51,255),-1)\n",
    "        cv2.putText(img,read,(x,y-10),cv2.FONT_HERSHEY_SIMPLEX,1,(0, 0, 0),2)\n",
    "        cv2.imshow('Plate',plate)\n",
    "    \n",
    "    cv2.imshow(\"Result\",img)\n",
    "    cv2.imwrite('result.jpg',img)\n",
    "    cv2.waitKey(0)\n",
    "    cv2.destroyAllWindows()"
   ]
  },
  {
   "cell_type": "code",
   "execution_count": null,
   "metadata": {},
   "outputs": [
    {
     "name": "stdout",
     "output_type": "stream",
     "text": [
      "car Belongs to Haryana\n",
      "HR26DK8337\n"
     ]
    }
   ],
   "source": [
    "extract_num('Haryana.jpg')"
   ]
  }
 ],
 "metadata": {
  "kernelspec": {
   "display_name": "Python 3",
   "language": "python",
   "name": "python3"
  },
  "language_info": {
   "codemirror_mode": {
    "name": "ipython",
    "version": 3
   },
   "file_extension": ".py",
   "mimetype": "text/x-python",
   "name": "python",
   "nbconvert_exporter": "python",
   "pygments_lexer": "ipython3",
   "version": "3.8.5"
  }
 },
 "nbformat": 4,
 "nbformat_minor": 4
}
